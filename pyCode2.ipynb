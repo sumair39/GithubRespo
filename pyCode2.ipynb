{
 "cells": [
  {
   "cell_type": "code",
   "execution_count": 69,
   "id": "0b90c337",
   "metadata": {},
   "outputs": [],
   "source": [
    "import pandas as pd\n",
    "import numpy as np\n",
    "\n",
    "import matplotlib.pyplot as plt\n",
    "import seaborn as sns"
   ]
  },
  {
   "cell_type": "code",
   "execution_count": 70,
   "id": "3a495b46",
   "metadata": {},
   "outputs": [],
   "source": [
    "df=pd.read_csv(\"train_MpHjUjU.csv\")"
   ]
  },
  {
   "cell_type": "code",
   "execution_count": 71,
   "id": "0e89bba8",
   "metadata": {},
   "outputs": [
    {
     "data": {
      "text/html": [
       "<div>\n",
       "<style scoped>\n",
       "    .dataframe tbody tr th:only-of-type {\n",
       "        vertical-align: middle;\n",
       "    }\n",
       "\n",
       "    .dataframe tbody tr th {\n",
       "        vertical-align: top;\n",
       "    }\n",
       "\n",
       "    .dataframe thead th {\n",
       "        text-align: right;\n",
       "    }\n",
       "</style>\n",
       "<table border=\"1\" class=\"dataframe\">\n",
       "  <thead>\n",
       "    <tr style=\"text-align: right;\">\n",
       "      <th></th>\n",
       "      <th>MMM-YY</th>\n",
       "      <th>Emp_ID</th>\n",
       "      <th>Age</th>\n",
       "      <th>Gender</th>\n",
       "      <th>City</th>\n",
       "      <th>Education_Level</th>\n",
       "      <th>Salary</th>\n",
       "      <th>Dateofjoining</th>\n",
       "      <th>LastWorkingDate</th>\n",
       "      <th>Joining Designation</th>\n",
       "      <th>Designation</th>\n",
       "      <th>Total Business Value</th>\n",
       "      <th>Quarterly Rating</th>\n",
       "    </tr>\n",
       "  </thead>\n",
       "  <tbody>\n",
       "    <tr>\n",
       "      <th>0</th>\n",
       "      <td>2016-01-01</td>\n",
       "      <td>1</td>\n",
       "      <td>28</td>\n",
       "      <td>Male</td>\n",
       "      <td>C23</td>\n",
       "      <td>Master</td>\n",
       "      <td>57387</td>\n",
       "      <td>2015-12-24</td>\n",
       "      <td>NaN</td>\n",
       "      <td>1</td>\n",
       "      <td>1</td>\n",
       "      <td>2381060</td>\n",
       "      <td>2</td>\n",
       "    </tr>\n",
       "    <tr>\n",
       "      <th>1</th>\n",
       "      <td>2016-02-01</td>\n",
       "      <td>1</td>\n",
       "      <td>28</td>\n",
       "      <td>Male</td>\n",
       "      <td>C23</td>\n",
       "      <td>Master</td>\n",
       "      <td>57387</td>\n",
       "      <td>2015-12-24</td>\n",
       "      <td>NaN</td>\n",
       "      <td>1</td>\n",
       "      <td>1</td>\n",
       "      <td>-665480</td>\n",
       "      <td>2</td>\n",
       "    </tr>\n",
       "  </tbody>\n",
       "</table>\n",
       "</div>"
      ],
      "text/plain": [
       "       MMM-YY  Emp_ID  Age Gender City Education_Level  Salary Dateofjoining  \\\n",
       "0  2016-01-01       1   28   Male  C23          Master   57387    2015-12-24   \n",
       "1  2016-02-01       1   28   Male  C23          Master   57387    2015-12-24   \n",
       "\n",
       "  LastWorkingDate  Joining Designation  Designation  Total Business Value  \\\n",
       "0             NaN                    1            1               2381060   \n",
       "1             NaN                    1            1               -665480   \n",
       "\n",
       "   Quarterly Rating  \n",
       "0                 2  \n",
       "1                 2  "
      ]
     },
     "execution_count": 71,
     "metadata": {},
     "output_type": "execute_result"
    }
   ],
   "source": [
    "df.head(2)"
   ]
  },
  {
   "cell_type": "markdown",
   "id": "d5f94083",
   "metadata": {},
   "source": [
    "Changing time to timestamp for better control."
   ]
  },
  {
   "cell_type": "code",
   "execution_count": 72,
   "id": "d024a8d0",
   "metadata": {},
   "outputs": [],
   "source": [
    "from datetime import datetime, date\n",
    "df['Time'] = list(map(lambda x: datetime.strptime(x, '%Y-%m-%d'), df['MMM-YY']))"
   ]
  },
  {
   "cell_type": "code",
   "execution_count": 73,
   "id": "15a96b53",
   "metadata": {},
   "outputs": [],
   "source": [
    "df['Dateofjoining']=list(map(lambda x: datetime.strptime(x, '%Y-%m-%d'), df['Dateofjoining']))"
   ]
  },
  {
   "cell_type": "markdown",
   "id": "f4dab77b",
   "metadata": {},
   "source": [
    "Using 'Left' boolean value for better understanding, of who left and who stayed(0:Still Present, 1:Left/Leaving)"
   ]
  },
  {
   "cell_type": "code",
   "execution_count": 74,
   "id": "ccfb0bae",
   "metadata": {},
   "outputs": [],
   "source": [
    "df['Left']=df.apply(lambda x: 0 if type(x['LastWorkingDate'])==float else 1, axis=1)"
   ]
  },
  {
   "cell_type": "markdown",
   "id": "8546e1df",
   "metadata": {},
   "source": [
    "To estimate the total duration the employee has been with the organization, by subtracting the 'LastWorkingDate' and 'Dateofjoining'.(Note: I have used default date of last day of 2017 \"31st Dec,2017\" for employees marked as retained)"
   ]
  },
  {
   "cell_type": "code",
   "execution_count": 75,
   "id": "c017a67e",
   "metadata": {},
   "outputs": [],
   "source": [
    "dr=[]\n",
    "for d in df['LastWorkingDate'].index:\n",
    "    if type(df['LastWorkingDate'][d]) is not float:\n",
    "        dr.append(str(datetime.strptime(df['LastWorkingDate'][d], '%Y-%m-%d')-df['Dateofjoining'][d]))\n",
    "    else:\n",
    "        dr.append(str(datetime.strptime('2017-12-31', '%Y-%m-%d')-df['Dateofjoining'][d]))\n",
    "#to convert duration list from datatype timestamp to integer\n",
    "dur=[]\n",
    "for i in dr:\n",
    "    dur.append(int(i.replace(' days 00:00:00',\"\")))"
   ]
  },
  {
   "cell_type": "code",
   "execution_count": 76,
   "id": "1dea61b4",
   "metadata": {},
   "outputs": [],
   "source": [
    "df['Duration']=dur"
   ]
  },
  {
   "cell_type": "markdown",
   "id": "c83b6923",
   "metadata": {},
   "source": [
    "Creating a dataset with all employee details"
   ]
  },
  {
   "cell_type": "code",
   "execution_count": 77,
   "id": "a0a6c8fb",
   "metadata": {},
   "outputs": [],
   "source": [
    "groupByID=df.groupby(['Emp_ID'])"
   ]
  },
  {
   "cell_type": "code",
   "execution_count": 78,
   "id": "d6a331a6",
   "metadata": {},
   "outputs": [],
   "source": [
    "#grouped by Employee ID\n",
    "data=pd.DataFrame(groupByID.sum()[['Total Business Value','Left']])"
   ]
  },
  {
   "cell_type": "code",
   "execution_count": 79,
   "id": "a8923e61",
   "metadata": {},
   "outputs": [],
   "source": [
    "data[['Duration','Highest_Ed','Gender','City','Salary']]=df[['Duration','Education_Level','Gender','City','Salary']]"
   ]
  },
  {
   "cell_type": "code",
   "execution_count": 80,
   "id": "9e8b589b",
   "metadata": {},
   "outputs": [],
   "source": [
    "#taking the last Quarter Ratings only\n",
    "data['LastQuarterRating']=0\n",
    "data['LastQuarterRating']=list(map((lambda x: df['Quarterly Rating'][df[df['Emp_ID']==x].last_valid_index()]),data.index))"
   ]
  },
  {
   "cell_type": "code",
   "execution_count": 81,
   "id": "b23632c5",
   "metadata": {},
   "outputs": [],
   "source": [
    "#taking last assigned desination for the employee\n",
    "data['Designation']=0\n",
    "data['Designation']=list(map((lambda x: df['Designation'][df[df['Emp_ID']==x].last_valid_index()]),data.index))"
   ]
  },
  {
   "cell_type": "code",
   "execution_count": 82,
   "id": "2ed35c25",
   "metadata": {},
   "outputs": [
    {
     "data": {
      "text/plain": [
       "Bachelor    842\n",
       "College     777\n",
       "Master      762\n",
       "Name: Highest_Ed, dtype: int64"
      ]
     },
     "execution_count": 82,
     "metadata": {},
     "output_type": "execute_result"
    }
   ],
   "source": [
    "data['Highest_Ed'].value_counts()"
   ]
  },
  {
   "cell_type": "markdown",
   "id": "18bb3b9b",
   "metadata": {},
   "source": [
    "Creating a numerical value for each Education Level "
   ]
  },
  {
   "cell_type": "code",
   "execution_count": 83,
   "id": "050e2670",
   "metadata": {},
   "outputs": [],
   "source": [
    "highED=[]\n",
    "highED=list(map(lambda x:1 if x=='College' else(2 if x=='Bachelor' else 3),data['Highest_Ed']))\n",
    "data['Ed_Level']=highED"
   ]
  },
  {
   "cell_type": "code",
   "execution_count": 84,
   "id": "9728036b",
   "metadata": {},
   "outputs": [],
   "source": [
    "#Assigning last know age at the end of 2017\n",
    "data['Age']=list(map(lambda x: int(df[df['Emp_ID']==x].nlargest(n=1,columns='Age',keep='last')['Age']),data.index))"
   ]
  },
  {
   "cell_type": "code",
   "execution_count": 85,
   "id": "a3439866",
   "metadata": {},
   "outputs": [
    {
     "data": {
      "text/plain": [
       "array(['C23', 'C7', 'C13', 'C9', 'C11', 'C2', 'C19', 'C26', 'C20', 'C17',\n",
       "       'C29', 'C10', 'C24', 'C14', 'C6', 'C28', 'C5', 'C18', 'C27', 'C15',\n",
       "       'C8', 'C25', 'C21', 'C1', 'C4', 'C3', 'C16', 'C22', 'C12'],\n",
       "      dtype=object)"
      ]
     },
     "execution_count": 85,
     "metadata": {},
     "output_type": "execute_result"
    }
   ],
   "source": [
    "data['City'].unique()"
   ]
  },
  {
   "cell_type": "code",
   "execution_count": 86,
   "id": "54e5449c",
   "metadata": {},
   "outputs": [
    {
     "data": {
      "text/plain": [
       "<AxesSubplot:xlabel='City'>"
      ]
     },
     "execution_count": 86,
     "metadata": {},
     "output_type": "execute_result"
    },
    {
     "data": {
      "image/png": "[encoded data removed]",
      "text/plain": [
       "<Figure size 432x288 with 1 Axes>"
      ]
     },
     "metadata": {
      "needs_background": "light"
     },
     "output_type": "display_data"
    }
   ],
   "source": [
    "#to visulaize the demographic of the employees from a city\n",
    "#plt.figure(figsize=(13,10))\n",
    "sns.barplot(x=data['City'].value_counts(),y=data['City'].unique(),orient='h')"
   ]
  },
  {
   "cell_type": "code",
   "execution_count": 87,
   "id": "ee67ee00",
   "metadata": {},
   "outputs": [
    {
     "data": {
      "text/plain": [
       "<AxesSubplot:xlabel='Age', ylabel='Count'>"
      ]
     },
     "execution_count": 87,
     "metadata": {},
     "output_type": "execute_result"
    },
    {
     "data": {
      "image/png": "[encoded data removed]",
      "text/plain": [
       "<Figure size 360x360 with 1 Axes>"
      ]
     },
     "metadata": {
      "needs_background": "light"
     },
     "output_type": "display_data"
    }
   ],
   "source": [
    "#to visulaize the age group of the employees from a city\n",
    "plt.figure(figsize=(5,5))\n",
    "sns.histplot(x=data['Age'])"
   ]
  },
  {
   "cell_type": "code",
   "execution_count": 88,
   "id": "641a2fbb",
   "metadata": {},
   "outputs": [
    {
     "data": {
      "text/plain": [
       "<AxesSubplot:xlabel='Total Business Value', ylabel='Salary'>"
      ]
     },
     "execution_count": 88,
     "metadata": {},
     "output_type": "execute_result"
    },
    {
     "data": {
      "image/png": "[encoded data removed]",
      "text/plain": [
       "<Figure size 504x360 with 1 Axes>"
      ]
     },
     "metadata": {
      "needs_background": "light"
     },
     "output_type": "display_data"
    }
   ],
   "source": [
    "#to visulaize the relation between Salary and Business Value, in light of people who left and have still stayed\n",
    "plt.figure(figsize=(7,5))\n",
    "sns.scatterplot(x=data['Total Business Value'],y=data['Salary'],hue=data['Left'])"
   ]
  },
  {
   "cell_type": "code",
   "execution_count": 89,
   "id": "269b3242",
   "metadata": {},
   "outputs": [
    {
     "data": {
      "text/plain": [
       "count    2.381000e+03\n",
       "mean     4.586742e+06\n",
       "std      9.127115e+06\n",
       "min     -1.385530e+06\n",
       "25%      0.000000e+00\n",
       "50%      8.176800e+05\n",
       "75%      4.173650e+06\n",
       "max      9.533106e+07\n",
       "Name: Total Business Value, dtype: float64"
      ]
     },
     "execution_count": 89,
     "metadata": {},
     "output_type": "execute_result"
    }
   ],
   "source": [
    "#sns.histplot(x=data['Total Business Value'])\n",
    "data['Total Business Value'].describe()"
   ]
  },
  {
   "cell_type": "code",
   "execution_count": 117,
   "id": "a87f7a4a",
   "metadata": {},
   "outputs": [
    {
     "data": {
      "text/plain": [
       "<AxesSubplot:xlabel='LastQuarterRating', ylabel='Salary'>"
      ]
     },
     "execution_count": 117,
     "metadata": {},
     "output_type": "execute_result"
    },
    {
     "data": {
      "image/png": "[encoded data removed]",
      "text/plain": [
       "<Figure size 504x360 with 1 Axes>"
      ]
     },
     "metadata": {
      "needs_background": "light"
     },
     "output_type": "display_data"
    }
   ],
   "source": [
    "#to visulaize the relation between Salary and Last Quarter Rating, in light of people who left and have still stayed\n",
    "plt.figure(figsize=(7,5))\n",
    "sns.violinplot(x=data['LastQuarterRating'],y=data['Salary'],hue=data['Left'])"
   ]
  },
  {
   "cell_type": "markdown",
   "id": "f38ac631",
   "metadata": {},
   "source": [
    "Trying to build a model using the dataset."
   ]
  },
  {
   "cell_type": "code",
   "execution_count": 118,
   "id": "89d13ce3",
   "metadata": {},
   "outputs": [],
   "source": [
    "from sklearn.model_selection import train_test_split\n",
    "from sklearn.linear_model import LogisticRegression\n",
    "from sklearn.neighbors import KNeighborsClassifier\n",
    "from sklearn.preprocessing import LabelEncoder"
   ]
  },
  {
   "cell_type": "code",
   "execution_count": 119,
   "id": "218c189a",
   "metadata": {},
   "outputs": [],
   "source": [
    "data['Male']=pd.get_dummies(data['Gender'])['Male']\n",
    "#data.head()"
   ]
  },
  {
   "cell_type": "code",
   "execution_count": 120,
   "id": "25130ba8",
   "metadata": {},
   "outputs": [
    {
     "data": {
      "text/plain": [
       "<AxesSubplot:xlabel='count', ylabel='City'>"
      ]
     },
     "execution_count": 120,
     "metadata": {},
     "output_type": "execute_result"
    },
    {
     "data": {
      "image/png": "[encoded data removed]",
      "text/plain": [
       "<Figure size 432x288 with 1 Axes>"
      ]
     },
     "metadata": {
      "needs_background": "light"
     },
     "output_type": "display_data"
    }
   ],
   "source": [
    "le=LabelEncoder()\n",
    "data['City']=le.fit_transform(data['City'])\n",
    "sns.countplot(y=data['City'].value_counts().sort_values())"
   ]
  },
  {
   "cell_type": "code",
   "execution_count": 121,
   "id": "160162d5",
   "metadata": {},
   "outputs": [],
   "source": [
    "#Setting the input and the output values.\n",
    "X=data.drop(['Highest_Ed','Gender','Duration','Left'],axis=1)\n",
    "y=data['Left']"
   ]
  },
  {
   "cell_type": "code",
   "execution_count": 122,
   "id": "ea51c284",
   "metadata": {},
   "outputs": [],
   "source": [
    "X_train,X_val,y_train,y_val=train_test_split(X,y,test_size=0.2,random_state=101)"
   ]
  },
  {
   "cell_type": "code",
   "execution_count": 123,
   "id": "5858de98",
   "metadata": {},
   "outputs": [],
   "source": [
    "#Using Logistic Regression Model\n",
    "lR=LogisticRegression()"
   ]
  },
  {
   "cell_type": "code",
   "execution_count": 124,
   "id": "d1004097",
   "metadata": {},
   "outputs": [
    {
     "data": {
      "text/plain": [
       "LogisticRegression()"
      ]
     },
     "execution_count": 124,
     "metadata": {},
     "output_type": "execute_result"
    }
   ],
   "source": [
    "lR.fit(X_train,y_train)"
   ]
  },
  {
   "cell_type": "code",
   "execution_count": 125,
   "id": "ad0ee9b2",
   "metadata": {},
   "outputs": [],
   "source": [
    "pred=lR.predict(X_val)"
   ]
  },
  {
   "cell_type": "code",
   "execution_count": 126,
   "id": "473b58aa",
   "metadata": {},
   "outputs": [],
   "source": [
    "from sklearn.metrics import classification_report, confusion_matrix, f1_score"
   ]
  },
  {
   "cell_type": "code",
   "execution_count": 127,
   "id": "c930fc21",
   "metadata": {},
   "outputs": [
    {
     "name": "stdout",
     "output_type": "stream",
     "text": [
      "              precision    recall  f1-score   support\n",
      "\n",
      "           0       0.69      0.35      0.47       156\n",
      "           1       0.75      0.92      0.82       321\n",
      "\n",
      "    accuracy                           0.74       477\n",
      "   macro avg       0.72      0.64      0.65       477\n",
      "weighted avg       0.73      0.74      0.71       477\n",
      "\n"
     ]
    }
   ],
   "source": [
    "print(classification_report(y_val,pred))"
   ]
  },
  {
   "cell_type": "code",
   "execution_count": 128,
   "id": "f2c2f1fa",
   "metadata": {},
   "outputs": [
    {
     "name": "stdout",
     "output_type": "stream",
     "text": [
      "              precision    recall  f1-score   support\n",
      "\n",
      "           0       0.56      0.40      0.47       156\n",
      "           1       0.74      0.84      0.79       321\n",
      "\n",
      "    accuracy                           0.70       477\n",
      "   macro avg       0.65      0.62      0.63       477\n",
      "weighted avg       0.68      0.70      0.69       477\n",
      "\n"
     ]
    }
   ],
   "source": [
    "print(classification_report(y_val,y_pred))"
   ]
  },
  {
   "cell_type": "code",
   "execution_count": 129,
   "id": "199c39bb",
   "metadata": {},
   "outputs": [
    {
     "name": "stdout",
     "output_type": "stream",
     "text": [
      "[[ 55 101]\n",
      " [ 25 296]]\n"
     ]
    }
   ],
   "source": [
    "print(confusion_matrix(y_val,pred))"
   ]
  },
  {
   "cell_type": "code",
   "execution_count": 130,
   "id": "33f2c7ac",
   "metadata": {},
   "outputs": [
    {
     "data": {
      "text/plain": [
       "0.8245125348189416"
      ]
     },
     "execution_count": 130,
     "metadata": {},
     "output_type": "execute_result"
    }
   ],
   "source": [
    "f1_score(y_val,pred)"
   ]
  },
  {
   "cell_type": "code",
   "execution_count": 131,
   "id": "6495e45c",
   "metadata": {},
   "outputs": [
    {
     "data": {
      "text/html": [
       "<div>\n",
       "<style scoped>\n",
       "    .dataframe tbody tr th:only-of-type {\n",
       "        vertical-align: middle;\n",
       "    }\n",
       "\n",
       "    .dataframe tbody tr th {\n",
       "        vertical-align: top;\n",
       "    }\n",
       "\n",
       "    .dataframe thead th {\n",
       "        text-align: right;\n",
       "    }\n",
       "</style>\n",
       "<table border=\"1\" class=\"dataframe\">\n",
       "  <thead>\n",
       "    <tr style=\"text-align: right;\">\n",
       "      <th></th>\n",
       "      <th>Total Business Value</th>\n",
       "      <th>City</th>\n",
       "      <th>Salary</th>\n",
       "      <th>LastQuarterRating</th>\n",
       "      <th>Designation</th>\n",
       "      <th>Ed_Level</th>\n",
       "      <th>Age</th>\n",
       "      <th>Male</th>\n",
       "    </tr>\n",
       "    <tr>\n",
       "      <th>Emp_ID</th>\n",
       "      <th></th>\n",
       "      <th></th>\n",
       "      <th></th>\n",
       "      <th></th>\n",
       "      <th></th>\n",
       "      <th></th>\n",
       "      <th></th>\n",
       "      <th></th>\n",
       "    </tr>\n",
       "  </thead>\n",
       "  <tbody>\n",
       "    <tr>\n",
       "      <th>1</th>\n",
       "      <td>1715580</td>\n",
       "      <td>15</td>\n",
       "      <td>57387</td>\n",
       "      <td>2</td>\n",
       "      <td>1</td>\n",
       "      <td>3</td>\n",
       "      <td>28</td>\n",
       "      <td>1</td>\n",
       "    </tr>\n",
       "    <tr>\n",
       "      <th>2</th>\n",
       "      <td>0</td>\n",
       "      <td>15</td>\n",
       "      <td>57387</td>\n",
       "      <td>1</td>\n",
       "      <td>2</td>\n",
       "      <td>3</td>\n",
       "      <td>31</td>\n",
       "      <td>1</td>\n",
       "    </tr>\n",
       "  </tbody>\n",
       "</table>\n",
       "</div>"
      ],
      "text/plain": [
       "        Total Business Value  City  Salary  LastQuarterRating  Designation  \\\n",
       "Emp_ID                                                                       \n",
       "1                    1715580    15   57387                  2            1   \n",
       "2                          0    15   57387                  1            2   \n",
       "\n",
       "        Ed_Level  Age  Male  \n",
       "Emp_ID                       \n",
       "1              3   28     1  \n",
       "2              3   31     1  "
      ]
     },
     "execution_count": 131,
     "metadata": {},
     "output_type": "execute_result"
    }
   ],
   "source": [
    "X.head(2)"
   ]
  },
  {
   "cell_type": "code",
   "execution_count": 153,
   "id": "f054b035",
   "metadata": {},
   "outputs": [],
   "source": [
    "knn=KNeighborsClassifier()"
   ]
  },
  {
   "cell_type": "code",
   "execution_count": 133,
   "id": "48ef75fd",
   "metadata": {},
   "outputs": [
    {
     "data": {
      "text/plain": [
       "KNeighborsClassifier()"
      ]
     },
     "execution_count": 133,
     "metadata": {},
     "output_type": "execute_result"
    }
   ],
   "source": [
    "knn.fit(X_train,y_train)"
   ]
  },
  {
   "cell_type": "code",
   "execution_count": 134,
   "id": "23c0d096",
   "metadata": {},
   "outputs": [],
   "source": [
    "y_pred=knn.predict(X_val)"
   ]
  },
  {
   "cell_type": "code",
   "execution_count": 135,
   "id": "9fe48002",
   "metadata": {},
   "outputs": [
    {
     "data": {
      "text/plain": [
       "0.7912408759124088"
      ]
     },
     "execution_count": 135,
     "metadata": {},
     "output_type": "execute_result"
    }
   ],
   "source": [
    "f1_score(y_pred,y_val)"
   ]
  },
  {
   "cell_type": "code",
   "execution_count": 136,
   "id": "1d5b8d35",
   "metadata": {},
   "outputs": [
    {
     "data": {
      "text/plain": [
       "0.8245125348189416"
      ]
     },
     "execution_count": 136,
     "metadata": {},
     "output_type": "execute_result"
    }
   ],
   "source": [
    "f1_score(y_val,pred)"
   ]
  },
  {
   "cell_type": "code",
   "execution_count": 137,
   "id": "8f6237df",
   "metadata": {},
   "outputs": [],
   "source": [
    "test=pd.read_csv('test_hXY9mYw.csv')"
   ]
  },
  {
   "cell_type": "code",
   "execution_count": 111,
   "id": "02618e75",
   "metadata": {},
   "outputs": [],
   "source": [
    "#test['Emp_ID']"
   ]
  },
  {
   "cell_type": "code",
   "execution_count": 138,
   "id": "35856233",
   "metadata": {},
   "outputs": [],
   "source": [
    "y_predLR=[]\n",
    "y_predKN=[]\n",
    "for i in test['Emp_ID']:\n",
    "    y_predLR.append(int(lR.predict(X[X.index==i])))\n",
    "    y_predKN.append(int(knn.predict(X[X.index==i])))"
   ]
  },
  {
   "cell_type": "code",
   "execution_count": 139,
   "id": "e7475994",
   "metadata": {},
   "outputs": [
    {
     "name": "stdout",
     "output_type": "stream",
     "text": [
      "598 143\n"
     ]
    }
   ],
   "source": [
    "count1=0\n",
    "count2=0\n",
    "for i,j in zip(y_predLR, y_predKN):\n",
    "    if i==j:\n",
    "        count1=count1+1\n",
    "    else:\n",
    "        count2=count2+1\n",
    "print(count1, count2)"
   ]
  },
  {
   "cell_type": "code",
   "execution_count": 140,
   "id": "bfa2cc51",
   "metadata": {},
   "outputs": [],
   "source": [
    "#y_predLR"
   ]
  },
  {
   "cell_type": "code",
   "execution_count": null,
   "id": "4ab3d252",
   "metadata": {},
   "outputs": [],
   "source": [
    "#test.set_index('Emp_ID')"
   ]
  },
  {
   "cell_type": "code",
   "execution_count": null,
   "id": "3a1e54e5",
   "metadata": {},
   "outputs": [],
   "source": [
    "#test.to_csv('Submission2.csv')"
   ]
  },
  {
   "cell_type": "code",
   "execution_count": 143,
   "id": "9b95363c",
   "metadata": {},
   "outputs": [
    {
     "data": {
      "text/html": [
       "<div>\n",
       "<style scoped>\n",
       "    .dataframe tbody tr th:only-of-type {\n",
       "        vertical-align: middle;\n",
       "    }\n",
       "\n",
       "    .dataframe tbody tr th {\n",
       "        vertical-align: top;\n",
       "    }\n",
       "\n",
       "    .dataframe thead th {\n",
       "        text-align: right;\n",
       "    }\n",
       "</style>\n",
       "<table border=\"1\" class=\"dataframe\">\n",
       "  <thead>\n",
       "    <tr style=\"text-align: right;\">\n",
       "      <th></th>\n",
       "      <th>Total Business Value</th>\n",
       "      <th>Left</th>\n",
       "      <th>Duration</th>\n",
       "      <th>Highest_Ed</th>\n",
       "      <th>Gender</th>\n",
       "      <th>City</th>\n",
       "      <th>Salary</th>\n",
       "      <th>LastQuarterRating</th>\n",
       "      <th>Designation</th>\n",
       "      <th>Ed_Level</th>\n",
       "      <th>Age</th>\n",
       "      <th>Male</th>\n",
       "    </tr>\n",
       "    <tr>\n",
       "      <th>Emp_ID</th>\n",
       "      <th></th>\n",
       "      <th></th>\n",
       "      <th></th>\n",
       "      <th></th>\n",
       "      <th></th>\n",
       "      <th></th>\n",
       "      <th></th>\n",
       "      <th></th>\n",
       "      <th></th>\n",
       "      <th></th>\n",
       "      <th></th>\n",
       "      <th></th>\n",
       "    </tr>\n",
       "  </thead>\n",
       "  <tbody>\n",
       "    <tr>\n",
       "      <th>1</th>\n",
       "      <td>1715580</td>\n",
       "      <td>1</td>\n",
       "      <td>738</td>\n",
       "      <td>Master</td>\n",
       "      <td>Male</td>\n",
       "      <td>15</td>\n",
       "      <td>57387</td>\n",
       "      <td>2</td>\n",
       "      <td>1</td>\n",
       "      <td>3</td>\n",
       "      <td>28</td>\n",
       "      <td>1</td>\n",
       "    </tr>\n",
       "    <tr>\n",
       "      <th>2</th>\n",
       "      <td>0</td>\n",
       "      <td>0</td>\n",
       "      <td>78</td>\n",
       "      <td>Master</td>\n",
       "      <td>Male</td>\n",
       "      <td>15</td>\n",
       "      <td>57387</td>\n",
       "      <td>1</td>\n",
       "      <td>2</td>\n",
       "      <td>3</td>\n",
       "      <td>31</td>\n",
       "      <td>1</td>\n",
       "    </tr>\n",
       "  </tbody>\n",
       "</table>\n",
       "</div>"
      ],
      "text/plain": [
       "        Total Business Value  Left  Duration Highest_Ed Gender  City  Salary  \\\n",
       "Emp_ID                                                                         \n",
       "1                    1715580     1       738     Master   Male    15   57387   \n",
       "2                          0     0        78     Master   Male    15   57387   \n",
       "\n",
       "        LastQuarterRating  Designation  Ed_Level  Age  Male  \n",
       "Emp_ID                                                       \n",
       "1                       2            1         3   28     1  \n",
       "2                       1            2         3   31     1  "
      ]
     },
     "execution_count": 143,
     "metadata": {},
     "output_type": "execute_result"
    }
   ],
   "source": [
    "data.head(2)"
   ]
  },
  {
   "cell_type": "code",
   "execution_count": 144,
   "id": "d7762328",
   "metadata": {},
   "outputs": [],
   "source": [
    "from sklearn.preprocessing import StandardScaler"
   ]
  },
  {
   "cell_type": "code",
   "execution_count": 145,
   "id": "d8796ade",
   "metadata": {},
   "outputs": [],
   "source": [
    "scale=StandardScaler()"
   ]
  },
  {
   "cell_type": "code",
   "execution_count": 146,
   "id": "f6560154",
   "metadata": {},
   "outputs": [],
   "source": [
    "data[['Total Business Value', 'Duration', 'Salary']]=scale.fit_transform(data[['Total Business Value', 'Duration', 'Salary']])"
   ]
  },
  {
   "cell_type": "code",
   "execution_count": 154,
   "id": "4eeb0574",
   "metadata": {},
   "outputs": [
    {
     "data": {
      "text/html": [
       "<div>\n",
       "<style scoped>\n",
       "    .dataframe tbody tr th:only-of-type {\n",
       "        vertical-align: middle;\n",
       "    }\n",
       "\n",
       "    .dataframe tbody tr th {\n",
       "        vertical-align: top;\n",
       "    }\n",
       "\n",
       "    .dataframe thead th {\n",
       "        text-align: right;\n",
       "    }\n",
       "</style>\n",
       "<table border=\"1\" class=\"dataframe\">\n",
       "  <thead>\n",
       "    <tr style=\"text-align: right;\">\n",
       "      <th></th>\n",
       "      <th>Total Business Value</th>\n",
       "      <th>Left</th>\n",
       "      <th>Duration</th>\n",
       "      <th>Highest_Ed</th>\n",
       "      <th>Gender</th>\n",
       "      <th>City</th>\n",
       "      <th>Salary</th>\n",
       "      <th>LastQuarterRating</th>\n",
       "      <th>Designation</th>\n",
       "      <th>Ed_Level</th>\n",
       "      <th>Age</th>\n",
       "      <th>Male</th>\n",
       "    </tr>\n",
       "    <tr>\n",
       "      <th>Emp_ID</th>\n",
       "      <th></th>\n",
       "      <th></th>\n",
       "      <th></th>\n",
       "      <th></th>\n",
       "      <th></th>\n",
       "      <th></th>\n",
       "      <th></th>\n",
       "      <th></th>\n",
       "      <th></th>\n",
       "      <th></th>\n",
       "      <th></th>\n",
       "      <th></th>\n",
       "    </tr>\n",
       "  </thead>\n",
       "  <tbody>\n",
       "    <tr>\n",
       "      <th>1</th>\n",
       "      <td>-0.314641</td>\n",
       "      <td>1</td>\n",
       "      <td>-0.175577</td>\n",
       "      <td>Master</td>\n",
       "      <td>Male</td>\n",
       "      <td>15</td>\n",
       "      <td>-0.347121</td>\n",
       "      <td>2</td>\n",
       "      <td>1</td>\n",
       "      <td>3</td>\n",
       "      <td>28</td>\n",
       "      <td>1</td>\n",
       "    </tr>\n",
       "    <tr>\n",
       "      <th>2</th>\n",
       "      <td>-0.502646</td>\n",
       "      <td>0</td>\n",
       "      <td>-1.233524</td>\n",
       "      <td>Master</td>\n",
       "      <td>Male</td>\n",
       "      <td>15</td>\n",
       "      <td>-0.347121</td>\n",
       "      <td>1</td>\n",
       "      <td>2</td>\n",
       "      <td>3</td>\n",
       "      <td>31</td>\n",
       "      <td>1</td>\n",
       "    </tr>\n",
       "  </tbody>\n",
       "</table>\n",
       "</div>"
      ],
      "text/plain": [
       "        Total Business Value  Left  Duration Highest_Ed Gender  City  \\\n",
       "Emp_ID                                                                 \n",
       "1                  -0.314641     1 -0.175577     Master   Male    15   \n",
       "2                  -0.502646     0 -1.233524     Master   Male    15   \n",
       "\n",
       "          Salary  LastQuarterRating  Designation  Ed_Level  Age  Male  \n",
       "Emp_ID                                                                 \n",
       "1      -0.347121                  2            1         3   28     1  \n",
       "2      -0.347121                  1            2         3   31     1  "
      ]
     },
     "execution_count": 154,
     "metadata": {},
     "output_type": "execute_result"
    }
   ],
   "source": [
    "data.head(2)"
   ]
  },
  {
   "cell_type": "code",
   "execution_count": 160,
   "id": "202ccef4",
   "metadata": {},
   "outputs": [],
   "source": [
    "X_scaled=data.drop(['Left','Gender','Highest_Ed'], axis=1)\n",
    "y_scaled=data['Left']"
   ]
  },
  {
   "cell_type": "code",
   "execution_count": 161,
   "id": "4ab705bb",
   "metadata": {},
   "outputs": [],
   "source": [
    "X_tr,X_v,y_tr,y_v=train_test_split(X_scaled,y_scaled,test_size=0.2)"
   ]
  },
  {
   "cell_type": "code",
   "execution_count": 162,
   "id": "631c5ba1",
   "metadata": {},
   "outputs": [],
   "source": [
    "logicR=LogisticRegression()"
   ]
  },
  {
   "cell_type": "code",
   "execution_count": 163,
   "id": "5d7a0fd2",
   "metadata": {},
   "outputs": [
    {
     "name": "stderr",
     "output_type": "stream",
     "text": [
      "c:\\users\\pc\\appdata\\local\\programs\\python\\python38\\lib\\site-packages\\sklearn\\linear_model\\_logistic.py:763: ConvergenceWarning: lbfgs failed to converge (status=1):\n",
      "STOP: TOTAL NO. of ITERATIONS REACHED LIMIT.\n",
      "\n",
      "Increase the number of iterations (max_iter) or scale the data as shown in:\n",
      "    https://scikit-learn.org/stable/modules/preprocessing.html\n",
      "Please also refer to the documentation for alternative solver options:\n",
      "    https://scikit-learn.org/stable/modules/linear_model.html#logistic-regression\n",
      "  n_iter_i = _check_optimize_result(\n"
     ]
    },
    {
     "data": {
      "text/plain": [
       "LogisticRegression()"
      ]
     },
     "execution_count": 163,
     "metadata": {},
     "output_type": "execute_result"
    }
   ],
   "source": [
    "logicR.fit(X_tr,y_tr)"
   ]
  },
  {
   "cell_type": "code",
   "execution_count": 164,
   "id": "d91fd356",
   "metadata": {},
   "outputs": [],
   "source": [
    "y_pr=logicR.predict(X_v)"
   ]
  },
  {
   "cell_type": "code",
   "execution_count": 165,
   "id": "fef67130",
   "metadata": {},
   "outputs": [
    {
     "data": {
      "text/plain": [
       "0.8456973293768546"
      ]
     },
     "execution_count": 165,
     "metadata": {},
     "output_type": "execute_result"
    }
   ],
   "source": [
    "f1_score(y_v,y_pr)"
   ]
  },
  {
   "cell_type": "code",
   "execution_count": 166,
   "id": "ec9e470c",
   "metadata": {},
   "outputs": [],
   "source": [
    "kNN=KNeighborsClassifier()"
   ]
  },
  {
   "cell_type": "code",
   "execution_count": 198,
   "id": "f65e4dfd",
   "metadata": {},
   "outputs": [],
   "source": [
    "from sklearn.model_selection import GridSearchCV\n",
    "from sklearn.ensemble import RandomForestClassifier, AdaBoostClassifier"
   ]
  },
  {
   "cell_type": "code",
   "execution_count": 176,
   "id": "42ab3af7",
   "metadata": {},
   "outputs": [],
   "source": [
    "para={'n_neighbors':[2,3,4,5], 'weights' : ['uniform', 'distance']}"
   ]
  },
  {
   "cell_type": "code",
   "execution_count": 177,
   "id": "278b315b",
   "metadata": {},
   "outputs": [],
   "source": [
    "search=GridSearchCV(estimator=KNeighborsClassifier(),param_grid=para,verbose=2)"
   ]
  },
  {
   "cell_type": "code",
   "execution_count": 178,
   "id": "deec4912",
   "metadata": {},
   "outputs": [
    {
     "name": "stdout",
     "output_type": "stream",
     "text": [
      "Fitting 5 folds for each of 8 candidates, totalling 40 fits\n",
      "[CV] END .....................n_neighbors=2, weights=uniform; total time=   0.0s\n",
      "[CV] END .....................n_neighbors=2, weights=uniform; total time=   0.0s\n",
      "[CV] END .....................n_neighbors=2, weights=uniform; total time=   0.0s\n",
      "[CV] END .....................n_neighbors=2, weights=uniform; total time=   0.0s\n",
      "[CV] END .....................n_neighbors=2, weights=uniform; total time=   0.0s\n",
      "[CV] END ....................n_neighbors=2, weights=distance; total time=   0.0s\n",
      "[CV] END ....................n_neighbors=2, weights=distance; total time=   0.0s\n",
      "[CV] END ....................n_neighbors=2, weights=distance; total time=   0.0s\n",
      "[CV] END ....................n_neighbors=2, weights=distance; total time=   0.0s\n",
      "[CV] END ....................n_neighbors=2, weights=distance; total time=   0.0s\n",
      "[CV] END .....................n_neighbors=3, weights=uniform; total time=   0.0s\n",
      "[CV] END .....................n_neighbors=3, weights=uniform; total time=   0.0s\n",
      "[CV] END .....................n_neighbors=3, weights=uniform; total time=   0.0s\n",
      "[CV] END .....................n_neighbors=3, weights=uniform; total time=   0.0s\n",
      "[CV] END .....................n_neighbors=3, weights=uniform; total time=   0.0s\n",
      "[CV] END ....................n_neighbors=3, weights=distance; total time=   0.0s\n",
      "[CV] END ....................n_neighbors=3, weights=distance; total time=   0.0s\n",
      "[CV] END ....................n_neighbors=3, weights=distance; total time=   0.0s\n",
      "[CV] END ....................n_neighbors=3, weights=distance; total time=   0.0s\n",
      "[CV] END ....................n_neighbors=3, weights=distance; total time=   0.0s\n",
      "[CV] END .....................n_neighbors=4, weights=uniform; total time=   0.0s\n",
      "[CV] END .....................n_neighbors=4, weights=uniform; total time=   0.0s\n",
      "[CV] END .....................n_neighbors=4, weights=uniform; total time=   0.0s\n",
      "[CV] END .....................n_neighbors=4, weights=uniform; total time=   0.0s\n",
      "[CV] END .....................n_neighbors=4, weights=uniform; total time=   0.0s\n",
      "[CV] END ....................n_neighbors=4, weights=distance; total time=   0.0s\n",
      "[CV] END ....................n_neighbors=4, weights=distance; total time=   0.0s\n",
      "[CV] END ....................n_neighbors=4, weights=distance; total time=   0.0s\n",
      "[CV] END ....................n_neighbors=4, weights=distance; total time=   0.0s\n",
      "[CV] END ....................n_neighbors=4, weights=distance; total time=   0.0s\n",
      "[CV] END .....................n_neighbors=5, weights=uniform; total time=   0.0s\n",
      "[CV] END .....................n_neighbors=5, weights=uniform; total time=   0.0s\n",
      "[CV] END .....................n_neighbors=5, weights=uniform; total time=   0.0s\n",
      "[CV] END .....................n_neighbors=5, weights=uniform; total time=   0.0s\n",
      "[CV] END .....................n_neighbors=5, weights=uniform; total time=   0.0s\n",
      "[CV] END ....................n_neighbors=5, weights=distance; total time=   0.0s\n",
      "[CV] END ....................n_neighbors=5, weights=distance; total time=   0.0s\n",
      "[CV] END ....................n_neighbors=5, weights=distance; total time=   0.0s\n",
      "[CV] END ....................n_neighbors=5, weights=distance; total time=   0.0s\n",
      "[CV] END ....................n_neighbors=5, weights=distance; total time=   0.0s\n"
     ]
    },
    {
     "data": {
      "text/plain": [
       "GridSearchCV(estimator=KNeighborsClassifier(),\n",
       "             param_grid={'n_neighbors': [2, 3, 4, 5],\n",
       "                         'weights': ['uniform', 'distance']},\n",
       "             verbose=2)"
      ]
     },
     "execution_count": 178,
     "metadata": {},
     "output_type": "execute_result"
    }
   ],
   "source": [
    "search.fit(X_tr,y_tr)"
   ]
  },
  {
   "cell_type": "code",
   "execution_count": 179,
   "id": "08e0f0ad",
   "metadata": {},
   "outputs": [
    {
     "data": {
      "text/plain": [
       "{'n_neighbors': 5, 'weights': 'uniform'}"
      ]
     },
     "execution_count": 179,
     "metadata": {},
     "output_type": "execute_result"
    }
   ],
   "source": [
    "search.best_params_"
   ]
  },
  {
   "cell_type": "code",
   "execution_count": 180,
   "id": "776057b5",
   "metadata": {},
   "outputs": [
    {
     "data": {
      "text/plain": [
       "0.7347617074181517"
      ]
     },
     "execution_count": 180,
     "metadata": {},
     "output_type": "execute_result"
    }
   ],
   "source": [
    "search.best_score_"
   ]
  },
  {
   "cell_type": "code",
   "execution_count": 188,
   "id": "284ff7b4",
   "metadata": {},
   "outputs": [],
   "source": [
    "search2=GridSearchCV(RandomForestClassifier(),{'n_estimators':[100,150],'max_depth':[2,3]},verbose=1)"
   ]
  },
  {
   "cell_type": "code",
   "execution_count": 189,
   "id": "fc6b6733",
   "metadata": {},
   "outputs": [
    {
     "name": "stdout",
     "output_type": "stream",
     "text": [
      "Fitting 5 folds for each of 4 candidates, totalling 20 fits\n"
     ]
    },
    {
     "data": {
      "text/plain": [
       "GridSearchCV(estimator=RandomForestClassifier(),\n",
       "             param_grid={'max_depth': [2, 3], 'n_estimators': [100, 150]},\n",
       "             verbose=1)"
      ]
     },
     "execution_count": 189,
     "metadata": {},
     "output_type": "execute_result"
    }
   ],
   "source": [
    "search2.fit(X_tr,y_tr)"
   ]
  },
  {
   "cell_type": "code",
   "execution_count": 190,
   "id": "6735ecd7",
   "metadata": {},
   "outputs": [
    {
     "data": {
      "text/plain": [
       "{'max_depth': 3, 'n_estimators': 100}"
      ]
     },
     "execution_count": 190,
     "metadata": {},
     "output_type": "execute_result"
    }
   ],
   "source": [
    "search2.best_params_"
   ]
  },
  {
   "cell_type": "code",
   "execution_count": 193,
   "id": "55c86f29",
   "metadata": {},
   "outputs": [],
   "source": [
    "rdf=RandomForestClassifier(max_depth= 3, n_estimators= 100)"
   ]
  },
  {
   "cell_type": "code",
   "execution_count": 194,
   "id": "d7411e9d",
   "metadata": {},
   "outputs": [
    {
     "data": {
      "text/plain": [
       "RandomForestClassifier(max_depth=3)"
      ]
     },
     "execution_count": 194,
     "metadata": {},
     "output_type": "execute_result"
    }
   ],
   "source": [
    "rdf.fit(X_tr,y_tr)"
   ]
  },
  {
   "cell_type": "code",
   "execution_count": 197,
   "id": "fc4c39ad",
   "metadata": {},
   "outputs": [
    {
     "data": {
      "text/plain": [
       "0.8439821693907876"
      ]
     },
     "execution_count": 197,
     "metadata": {},
     "output_type": "execute_result"
    }
   ],
   "source": [
    "f1_score(y_v,(rdf.predict(X_v)))"
   ]
  },
  {
   "cell_type": "code",
   "execution_count": null,
   "id": "487c08a0",
   "metadata": {},
   "outputs": [],
   "source": [
    "adb=AdaBoostClassifier()"
   ]
  }
 ],
 "metadata": {
  "kernelspec": {
   "display_name": "Python 3 (ipykernel)",
   "language": "python",
   "name": "python3"
  },
  "language_info": {
   "codemirror_mode": {
    "name": "ipython",
    "version": 3
   },
   "file_extension": ".py",
   "mimetype": "text/x-python",
   "name": "python",
   "nbconvert_exporter": "python",
   "pygments_lexer": "ipython3",
   "version": "3.8.5"
  }
 },
 "nbformat": 4,
 "nbformat_minor": 5
}
