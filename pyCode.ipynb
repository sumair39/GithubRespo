{
 "cells": [
  {
   "cell_type": "code",
   "execution_count": 1,
   "id": "0b90c337",
   "metadata": {},
   "outputs": [],
   "source": [
    "import pandas as pd\n",
    "import numpy as np\n",
    "\n",
    "import matplotlib.pyplot as plt\n",
    "import seaborn as sns"
   ]
  },
  {
   "cell_type": "code",
   "execution_count": 2,
   "id": "3a495b46",
   "metadata": {},
   "outputs": [],
   "source": [
    "df=pd.read_csv(\"train_MpHjUjU.csv\")"
   ]
  },
  {
   "cell_type": "code",
   "execution_count": 3,
   "id": "0e89bba8",
   "metadata": {},
   "outputs": [
    {
     "data": {
      "text/html": [
       "<div>\n",
       "<style scoped>\n",
       "    .dataframe tbody tr th:only-of-type {\n",
       "        vertical-align: middle;\n",
       "    }\n",
       "\n",
       "    .dataframe tbody tr th {\n",
       "        vertical-align: top;\n",
       "    }\n",
       "\n",
       "    .dataframe thead th {\n",
       "        text-align: right;\n",
       "    }\n",
       "</style>\n",
       "<table border=\"1\" class=\"dataframe\">\n",
       "  <thead>\n",
       "    <tr style=\"text-align: right;\">\n",
       "      <th></th>\n",
       "      <th>MMM-YY</th>\n",
       "      <th>Emp_ID</th>\n",
       "      <th>Age</th>\n",
       "      <th>Gender</th>\n",
       "      <th>City</th>\n",
       "      <th>Education_Level</th>\n",
       "      <th>Salary</th>\n",
       "      <th>Dateofjoining</th>\n",
       "      <th>LastWorkingDate</th>\n",
       "      <th>Joining Designation</th>\n",
       "      <th>Designation</th>\n",
       "      <th>Total Business Value</th>\n",
       "      <th>Quarterly Rating</th>\n",
       "    </tr>\n",
       "  </thead>\n",
       "  <tbody>\n",
       "    <tr>\n",
       "      <th>0</th>\n",
       "      <td>2016-01-01</td>\n",
       "      <td>1</td>\n",
       "      <td>28</td>\n",
       "      <td>Male</td>\n",
       "      <td>C23</td>\n",
       "      <td>Master</td>\n",
       "      <td>57387</td>\n",
       "      <td>2015-12-24</td>\n",
       "      <td>NaN</td>\n",
       "      <td>1</td>\n",
       "      <td>1</td>\n",
       "      <td>2381060</td>\n",
       "      <td>2</td>\n",
       "    </tr>\n",
       "    <tr>\n",
       "      <th>1</th>\n",
       "      <td>2016-02-01</td>\n",
       "      <td>1</td>\n",
       "      <td>28</td>\n",
       "      <td>Male</td>\n",
       "      <td>C23</td>\n",
       "      <td>Master</td>\n",
       "      <td>57387</td>\n",
       "      <td>2015-12-24</td>\n",
       "      <td>NaN</td>\n",
       "      <td>1</td>\n",
       "      <td>1</td>\n",
       "      <td>-665480</td>\n",
       "      <td>2</td>\n",
       "    </tr>\n",
       "  </tbody>\n",
       "</table>\n",
       "</div>"
      ],
      "text/plain": [
       "       MMM-YY  Emp_ID  Age Gender City Education_Level  Salary Dateofjoining  \\\n",
       "0  2016-01-01       1   28   Male  C23          Master   57387    2015-12-24   \n",
       "1  2016-02-01       1   28   Male  C23          Master   57387    2015-12-24   \n",
       "\n",
       "  LastWorkingDate  Joining Designation  Designation  Total Business Value  \\\n",
       "0             NaN                    1            1               2381060   \n",
       "1             NaN                    1            1               -665480   \n",
       "\n",
       "   Quarterly Rating  \n",
       "0                 2  \n",
       "1                 2  "
      ]
     },
     "execution_count": 3,
     "metadata": {},
     "output_type": "execute_result"
    }
   ],
   "source": [
    "df.head(2)"
   ]
  },
  {
   "cell_type": "markdown",
   "id": "d9ad35e2",
   "metadata": {},
   "source": [
    "Changing time to timestamp for better control."
   ]
  },
  {
   "cell_type": "code",
   "execution_count": 4,
   "id": "d024a8d0",
   "metadata": {},
   "outputs": [],
   "source": [
    "from datetime import datetime, date\n",
    "df['Time'] = list(map(lambda x: datetime.strptime(x, '%Y-%m-%d'), df['MMM-YY']))"
   ]
  },
  {
   "cell_type": "code",
   "execution_count": 5,
   "id": "a279e43c",
   "metadata": {},
   "outputs": [],
   "source": [
    "df['Dateofjoining']=list(map(lambda x: datetime.strptime(x, '%Y-%m-%d'), df['Dateofjoining']))"
   ]
  },
  {
   "cell_type": "markdown",
   "id": "f4dab77b",
   "metadata": {},
   "source": [
    "Using 'Left' boolean value for better understanding, of who left and who stayed(0:Still Present, 1:Left/Leaving)"
   ]
  },
  {
   "cell_type": "code",
   "execution_count": 6,
   "id": "ccfb0bae",
   "metadata": {},
   "outputs": [],
   "source": [
    "df['Left']=df.apply(lambda x: 0 if type(x['LastWorkingDate'])==float else 1, axis=1)"
   ]
  },
  {
   "cell_type": "markdown",
   "id": "5dcaa5cf",
   "metadata": {},
   "source": [
    "To estimate the total duration the employee has been with the organization, by subtracting the 'LastWorkingDate' and 'Dateofjoining'.(Note: I have used default date of last day of 2017 \"31st Dec,2017\" for employees marked as retained)"
   ]
  },
  {
   "cell_type": "code",
   "execution_count": 7,
   "id": "c017a67e",
   "metadata": {},
   "outputs": [],
   "source": [
    "dr=[]\n",
    "for d in df['LastWorkingDate'].index:\n",
    "    if type(df['LastWorkingDate'][d]) is not float:\n",
    "        dr.append(str(datetime.strptime(df['LastWorkingDate'][d], '%Y-%m-%d')-df['Dateofjoining'][d]))\n",
    "    else:\n",
    "        dr.append(str(datetime.strptime('2017-12-31', '%Y-%m-%d')-df['Dateofjoining'][d]))\n",
    "#to convert duration list from datatype timestamp to integer\n",
    "dur=[]\n",
    "for i in dr:\n",
    "    dur.append(int(i.replace(' days 00:00:00',\"\")))"
   ]
  },
  {
   "cell_type": "code",
   "execution_count": 8,
   "id": "1dea61b4",
   "metadata": {},
   "outputs": [],
   "source": [
    "df['Duration']=dur"
   ]
  },
  {
   "cell_type": "markdown",
   "id": "98e8f0ba",
   "metadata": {},
   "source": [
    "Creating a dataset with all employee details"
   ]
  },
  {
   "cell_type": "code",
   "execution_count": 9,
   "id": "a0a6c8fb",
   "metadata": {},
   "outputs": [],
   "source": [
    "groupByID=df.groupby(['Emp_ID'])"
   ]
  },
  {
   "cell_type": "code",
   "execution_count": 10,
   "id": "d6a331a6",
   "metadata": {},
   "outputs": [],
   "source": [
    "#grouped by Employee ID\n",
    "data=pd.DataFrame(groupByID.sum()[['Total Business Value','Left']])"
   ]
  },
  {
   "cell_type": "code",
   "execution_count": 11,
   "id": "a8923e61",
   "metadata": {},
   "outputs": [],
   "source": [
    "data[['Duration','Highest_Ed','Gender','City','Salary']]=df[['Duration','Education_Level','Gender','City','Salary']]"
   ]
  },
  {
   "cell_type": "code",
   "execution_count": 12,
   "id": "9e8b589b",
   "metadata": {},
   "outputs": [],
   "source": [
    "#taking the last Quarter Ratings only\n",
    "data['LastQuarterRating']=0\n",
    "data['LastQuarterRating']=list(map((lambda x: df['Quarterly Rating'][df[df['Emp_ID']==x].last_valid_index()]),data.index))"
   ]
  },
  {
   "cell_type": "code",
   "execution_count": 13,
   "id": "c134d3c6",
   "metadata": {},
   "outputs": [],
   "source": [
    "#taking last assigned desination for the employee\n",
    "data['Designation']=0\n",
    "data['Designation']=list(map((lambda x: df['Designation'][df[df['Emp_ID']==x].last_valid_index()]),data.index))"
   ]
  },
  {
   "cell_type": "code",
   "execution_count": 14,
   "id": "2ed35c25",
   "metadata": {},
   "outputs": [
    {
     "data": {
      "text/plain": [
       "Bachelor    842\n",
       "College     777\n",
       "Master      762\n",
       "Name: Highest_Ed, dtype: int64"
      ]
     },
     "execution_count": 14,
     "metadata": {},
     "output_type": "execute_result"
    }
   ],
   "source": [
    "data['Highest_Ed'].value_counts()"
   ]
  },
  {
   "cell_type": "markdown",
   "id": "c6a6c5d6",
   "metadata": {},
   "source": [
    "Creating a numerical value for each Education Level "
   ]
  },
  {
   "cell_type": "code",
   "execution_count": 15,
   "id": "050e2670",
   "metadata": {},
   "outputs": [],
   "source": [
    "highED=[]\n",
    "highED=list(map(lambda x:1 if x=='College' else(2 if x=='Bachelor' else 3),data['Highest_Ed']))\n",
    "data['Ed_Level']=highED"
   ]
  },
  {
   "cell_type": "code",
   "execution_count": 16,
   "id": "9728036b",
   "metadata": {},
   "outputs": [],
   "source": [
    "#Assigning last know age at the end of 2017\n",
    "data['Age']=list(map(lambda x: int(df[df['Emp_ID']==x].nlargest(n=1,columns='Age',keep='last')['Age']),data.index))"
   ]
  },
  {
   "cell_type": "code",
   "execution_count": 17,
   "id": "a3439866",
   "metadata": {},
   "outputs": [
    {
     "data": {
      "text/plain": [
       "array(['C23', 'C7', 'C13', 'C9', 'C11', 'C2', 'C19', 'C26', 'C20', 'C17',\n",
       "       'C29', 'C10', 'C24', 'C14', 'C6', 'C28', 'C5', 'C18', 'C27', 'C15',\n",
       "       'C8', 'C25', 'C21', 'C1', 'C4', 'C3', 'C16', 'C22', 'C12'],\n",
       "      dtype=object)"
      ]
     },
     "execution_count": 17,
     "metadata": {},
     "output_type": "execute_result"
    }
   ],
   "source": [
    "data['City'].unique()"
   ]
  },
  {
   "cell_type": "code",
   "execution_count": 18,
   "id": "36394bc4",
   "metadata": {},
   "outputs": [
    {
     "data": {
      "text/plain": [
       "<AxesSubplot:xlabel='City'>"
      ]
     },
     "execution_count": 18,
     "metadata": {},
     "output_type": "execute_result"
    },
    {
     "data": {
      "image/png": "[encoded data removed]",
      "text/plain": [
       "<Figure size 936x720 with 1 Axes>"
      ]
     },
     "metadata": {
      "needs_background": "light"
     },
     "output_type": "display_data"
    }
   ],
   "source": [
    "#to visulaize the demographic of the employees from a city\n",
    "plt.figure(figsize=(13,10))\n",
    "sns.barplot(x=data['City'].value_counts(),y=data['City'].unique(),orient='h')"
   ]
  },
  {
   "cell_type": "code",
   "execution_count": 19,
   "id": "b2adffdc",
   "metadata": {},
   "outputs": [
    {
     "data": {
      "text/plain": [
       "<AxesSubplot:xlabel='Age', ylabel='Count'>"
      ]
     },
     "execution_count": 19,
     "metadata": {},
     "output_type": "execute_result"
    },
    {
     "data": {
      "image/png": "[encoded data removed]",
      "text/plain": [
       "<Figure size 504x360 with 1 Axes>"
      ]
     },
     "metadata": {
      "needs_background": "light"
     },
     "output_type": "display_data"
    }
   ],
   "source": [
    "#to visulaize the age group of the employees from a city\n",
    "plt.figure(figsize=(7,5))\n",
    "sns.histplot(x=data['Age'])"
   ]
  },
  {
   "cell_type": "code",
   "execution_count": 20,
   "id": "bd4e7859",
   "metadata": {},
   "outputs": [
    {
     "data": {
      "text/plain": [
       "<AxesSubplot:xlabel='Total Business Value', ylabel='Salary'>"
      ]
     },
     "execution_count": 20,
     "metadata": {},
     "output_type": "execute_result"
    },
    {
     "data": {
      "image/png": "[encoded data removed]",
      "text/plain": [
       "<Figure size 504x360 with 1 Axes>"
      ]
     },
     "metadata": {
      "needs_background": "light"
     },
     "output_type": "display_data"
    }
   ],
   "source": [
    "#to visulaize the relation between Salary and Business Value, in light of people who left and have still stayed\n",
    "plt.figure(figsize=(7,5))\n",
    "sns.scatterplot(x=data['Total Business Value'],y=data['Salary'],hue=data['Left'])"
   ]
  },
  {
   "cell_type": "code",
   "execution_count": 21,
   "id": "c19e13e9",
   "metadata": {},
   "outputs": [
    {
     "data": {
      "text/plain": [
       "count    2.381000e+03\n",
       "mean     4.586742e+06\n",
       "std      9.127115e+06\n",
       "min     -1.385530e+06\n",
       "25%      0.000000e+00\n",
       "50%      8.176800e+05\n",
       "75%      4.173650e+06\n",
       "max      9.533106e+07\n",
       "Name: Total Business Value, dtype: float64"
      ]
     },
     "execution_count": 21,
     "metadata": {},
     "output_type": "execute_result"
    },
    {
     "data": {
      "image/png": "[encoded data removed]",
      "text/plain": [
       "<Figure size 432x288 with 1 Axes>"
      ]
     },
     "metadata": {
      "needs_background": "light"
     },
     "output_type": "display_data"
    }
   ],
   "source": [
    "sns.histplot(x=data['Total Business Value'])\n",
    "data['Total Business Value'].describe()"
   ]
  },
  {
   "cell_type": "code",
   "execution_count": 22,
   "id": "f72f6364",
   "metadata": {},
   "outputs": [
    {
     "data": {
      "text/plain": [
       "<AxesSubplot:xlabel='LastQuarterRating', ylabel='Salary'>"
      ]
     },
     "execution_count": 22,
     "metadata": {},
     "output_type": "execute_result"
    },
    {
     "data": {
      "image/png": "[encoded data removed]",
      "text/plain": [
       "<Figure size 504x360 with 1 Axes>"
      ]
     },
     "metadata": {
      "needs_background": "light"
     },
     "output_type": "display_data"
    }
   ],
   "source": [
    "#to visulaize the relation between Salary and Last Quarter Rating, in light of people who left and have still stayed\n",
    "plt.figure(figsize=(7,5))\n",
    "sns.violinplot(x=data['LastQuarterRating'],y=data['Salary'],hue=data['Left'])"
   ]
  },
  {
   "cell_type": "markdown",
   "id": "6b417fc7",
   "metadata": {},
   "source": [
    "Trying to build a model using the dataset."
   ]
  },
  {
   "cell_type": "code",
   "execution_count": 23,
   "id": "89d13ce3",
   "metadata": {},
   "outputs": [],
   "source": [
    "from sklearn.model_selection import train_test_split\n",
    "from sklearn.linear_model import LogisticRegression"
   ]
  },
  {
   "cell_type": "code",
   "execution_count": 24,
   "id": "218c189a",
   "metadata": {},
   "outputs": [],
   "source": [
    "data['Male']=pd.get_dummies(data['Gender'])['Male']"
   ]
  },
  {
   "cell_type": "code",
   "execution_count": 25,
   "id": "25130ba8",
   "metadata": {},
   "outputs": [],
   "source": [
    "data[data['City'].unique()]=pd.get_dummies(data['City'])"
   ]
  },
  {
   "cell_type": "code",
   "execution_count": 26,
   "id": "160162d5",
   "metadata": {},
   "outputs": [],
   "source": [
    "#Setting the input and the output values.\n",
    "X=data.drop(['Highest_Ed','Gender','City','Duration','Left'],axis=1)\n",
    "y=data['Left']"
   ]
  },
  {
   "cell_type": "code",
   "execution_count": 27,
   "id": "ea51c284",
   "metadata": {},
   "outputs": [],
   "source": [
    "X_train,X_val,y_train,y_val=train_test_split(X,y,test_size=0.2,random_state=101)"
   ]
  },
  {
   "cell_type": "code",
   "execution_count": 28,
   "id": "5858de98",
   "metadata": {},
   "outputs": [],
   "source": [
    "#Using Logistic Regression Model\n",
    "lR=LogisticRegression()"
   ]
  },
  {
   "cell_type": "code",
   "execution_count": 29,
   "id": "d1004097",
   "metadata": {},
   "outputs": [
    {
     "data": {
      "text/plain": [
       "LogisticRegression()"
      ]
     },
     "execution_count": 29,
     "metadata": {},
     "output_type": "execute_result"
    }
   ],
   "source": [
    "lR.fit(X_train,y_train)"
   ]
  },
  {
   "cell_type": "code",
   "execution_count": 30,
   "id": "ad0ee9b2",
   "metadata": {},
   "outputs": [],
   "source": [
    "pred=lR.predict(X_val)"
   ]
  },
  {
   "cell_type": "code",
   "execution_count": 31,
   "id": "473b58aa",
   "metadata": {},
   "outputs": [],
   "source": [
    "from sklearn.metrics import classification_report, confusion_matrix, f1_score"
   ]
  },
  {
   "cell_type": "code",
   "execution_count": 32,
   "id": "c930fc21",
   "metadata": {},
   "outputs": [
    {
     "name": "stdout",
     "output_type": "stream",
     "text": [
      "              precision    recall  f1-score   support\n",
      "\n",
      "           0       0.69      0.35      0.47       156\n",
      "           1       0.75      0.92      0.82       321\n",
      "\n",
      "    accuracy                           0.74       477\n",
      "   macro avg       0.72      0.64      0.65       477\n",
      "weighted avg       0.73      0.74      0.71       477\n",
      "\n"
     ]
    }
   ],
   "source": [
    "print(classification_report(y_val,pred))"
   ]
  },
  {
   "cell_type": "code",
   "execution_count": 33,
   "id": "199c39bb",
   "metadata": {},
   "outputs": [
    {
     "name": "stdout",
     "output_type": "stream",
     "text": [
      "[[ 55 101]\n",
      " [ 25 296]]\n"
     ]
    }
   ],
   "source": [
    "print(confusion_matrix(y_val,pred))"
   ]
  },
  {
   "cell_type": "code",
   "execution_count": 34,
   "id": "33f2c7ac",
   "metadata": {},
   "outputs": [
    {
     "data": {
      "text/plain": [
       "0.8245125348189416"
      ]
     },
     "execution_count": 34,
     "metadata": {},
     "output_type": "execute_result"
    }
   ],
   "source": [
    "f1_score(y_val,pred)"
   ]
  },
  {
   "cell_type": "code",
   "execution_count": 35,
   "id": "8f6237df",
   "metadata": {},
   "outputs": [],
   "source": [
    "test=pd.read_csv('test_hXY9mYw.csv')"
   ]
  },
  {
   "cell_type": "code",
   "execution_count": 36,
   "id": "02618e75",
   "metadata": {},
   "outputs": [
    {
     "data": {
      "text/plain": [
       "0       394\n",
       "1       173\n",
       "2      1090\n",
       "3       840\n",
       "4       308\n",
       "       ... \n",
       "736    2134\n",
       "737    2255\n",
       "738     448\n",
       "739    1644\n",
       "740     624\n",
       "Name: Emp_ID, Length: 741, dtype: int64"
      ]
     },
     "execution_count": 36,
     "metadata": {},
     "output_type": "execute_result"
    }
   ],
   "source": [
    "test['Emp_ID']"
   ]
  },
  {
   "cell_type": "code",
   "execution_count": 37,
   "id": "35856233",
   "metadata": {},
   "outputs": [],
   "source": [
    "pred_y=[]\n",
    "for i in test['Emp_ID']:\n",
    "             pred_y.append(int(lR.predict(X[X.index==i])))"
   ]
  },
  {
   "cell_type": "code",
   "execution_count": 38,
   "id": "e7475994",
   "metadata": {},
   "outputs": [
    {
     "name": "stdout",
     "output_type": "stream",
     "text": [
      "[0, 0, 0, 1, 0, 0, 0, 0, 0, 0, 0, 0, 0, 0, 0, 0, 0, 0, 0, 0, 1, 0, 0, 0, 0, 0, 1, 1, 0, 0, 0, 0, 0, 0, 0, 0, 0, 0, 1, 0, 0, 0, 0, 0, 0, 0, 0, 0, 0, 1, 0, 0, 0, 0, 0, 0, 0, 0, 0, 0, 0, 0, 0, 0, 0, 0, 0, 0, 0, 0, 0, 0, 0, 0, 0, 0, 0, 0, 0, 0, 0, 0, 0, 1, 0, 0, 1, 1, 0, 0, 0, 0, 0, 1, 0, 0, 0, 0, 0, 0, 0, 0, 0, 0, 0, 0, 0, 0, 0, 0, 0, 0, 0, 0, 0, 0, 0, 0, 0, 0, 0, 0, 0, 0, 0, 0, 1, 0, 0, 0, 0, 0, 1, 0, 0, 0, 0, 0, 1, 0, 0, 1, 0, 0, 0, 0, 0, 0, 0, 0, 0, 1, 0, 0, 0, 0, 0, 0, 0, 0, 0, 0, 0, 0, 0, 0, 0, 1, 0, 0, 0, 1, 0, 0, 0, 0, 0, 0, 0, 0, 0, 0, 0, 0, 0, 0, 0, 0, 0, 0, 0, 0, 0, 1, 0, 1, 0, 0, 0, 0, 0, 0, 0, 0, 1, 1, 0, 0, 0, 0, 0, 0, 0, 1, 0, 1, 1, 1, 0, 0, 1, 0, 0, 0, 1, 1, 0, 1, 1, 0, 1, 1, 0, 0, 1, 0, 0, 1, 1, 1, 0, 1, 1, 0, 1, 1, 1, 1, 1, 1, 1, 0, 1, 0, 0, 0, 0, 1, 0, 1, 1, 1, 0, 0, 0, 1, 0, 1, 0, 0, 1, 0, 1, 0, 1, 1, 0, 1, 0, 0, 1, 1, 1, 1, 1, 0, 1, 0, 1, 1, 1, 1, 0, 1, 0, 1, 1, 1, 1, 0, 1, 1, 1, 1, 0, 1, 1, 1, 1, 0, 0, 1, 1, 1, 1, 1, 1, 1, 1, 1, 1, 1, 1, 0, 1, 0, 1, 1, 1, 1, 1, 1, 0, 1, 1, 1, 1, 1, 1, 1, 1, 1, 1, 1, 1, 1, 1, 1, 1, 1, 1, 0, 1, 1, 1, 1, 0, 1, 1, 1, 0, 1, 1, 1, 1, 1, 1, 1, 1, 1, 1, 1, 0, 1, 1, 1, 1, 1, 0, 1, 1, 1, 1, 1, 1, 1, 1, 1, 1, 1, 1, 1, 1, 1, 1, 1, 1, 1, 1, 1, 1, 1, 1, 1, 1, 1, 1, 1, 1, 1, 1, 1, 1, 1, 1, 1, 0, 1, 1, 1, 1, 1, 1, 1, 1, 1, 1, 1, 1, 1, 1, 1, 1, 1, 0, 1, 1, 1, 1, 1, 1, 1, 1, 1, 1, 1, 1, 1, 1, 1, 1, 1, 1, 1, 1, 1, 1, 1, 1, 1, 1, 1, 1, 1, 1, 1, 1, 1, 1, 1, 1, 1, 1, 1, 1, 1, 1, 1, 1, 1, 1, 1, 1, 1, 1, 1, 1, 1, 1, 1, 1, 1, 1, 1, 1, 1, 1, 1, 1, 1, 1, 1, 1, 1, 1, 1, 1, 1, 1, 1, 1, 1, 1, 1, 1, 1, 1, 1, 1, 1, 1, 1, 1, 1, 1, 1, 1, 1, 1, 1, 1, 1, 1, 1, 1, 1, 1, 1, 1, 1, 1, 1, 1, 1, 1, 1, 1, 1, 1, 1, 1, 1, 1, 1, 1, 1, 1, 1, 1, 1, 1, 1, 1, 1, 1, 1, 1, 1, 1, 1, 1, 1, 1, 1, 1, 1, 1, 1, 1, 1, 1, 1, 1, 1, 1, 1, 1, 1, 1, 1, 1, 1, 1, 1, 1, 1, 1, 1, 1, 1, 1, 1, 1, 1, 1, 1, 1, 1, 1, 1, 1, 1, 1, 1, 1, 1, 1, 1, 1, 1, 1, 1, 1, 1, 1, 1, 1, 1, 1, 1, 1, 1, 1, 1, 1, 1, 1, 1, 1, 1, 1, 1, 1, 1, 1, 1, 1, 1, 1, 1, 1, 1, 1, 1, 1, 1, 1, 1, 1, 1, 1, 1, 1, 1, 1, 1, 1, 1, 1, 1, 1, 1, 1, 1, 1, 1, 1, 1, 1, 1, 1, 1, 1, 1, 1, 1, 1, 1, 1, 1, 1, 1, 1, 1, 1, 1, 1, 1, 1, 1, 1, 1, 1, 1, 1, 1, 1, 1, 1, 1, 1, 1, 1, 1, 1, 1, 1, 1, 1, 1, 1, 1, 0, 0, 0, 0, 0, 0, 0, 0, 0, 0, 0, 0, 0, 0, 0, 0, 0, 0, 0]\n"
     ]
    }
   ],
   "source": [
    "print(pred_y)"
   ]
  },
  {
   "cell_type": "code",
   "execution_count": 39,
   "id": "61f483c3",
   "metadata": {},
   "outputs": [],
   "source": [
    "test['Target']=pred_y"
   ]
  },
  {
   "cell_type": "code",
   "execution_count": 40,
   "id": "f85fbaac",
   "metadata": {},
   "outputs": [
    {
     "data": {
      "text/plain": [
       "1    481\n",
       "0    260\n",
       "Name: Target, dtype: int64"
      ]
     },
     "execution_count": 40,
     "metadata": {},
     "output_type": "execute_result"
    }
   ],
   "source": [
    "test['Target'].value_counts()"
   ]
  },
  {
   "cell_type": "code",
   "execution_count": 41,
   "id": "4ab3d252",
   "metadata": {},
   "outputs": [
    {
     "data": {
      "text/html": [
       "<div>\n",
       "<style scoped>\n",
       "    .dataframe tbody tr th:only-of-type {\n",
       "        vertical-align: middle;\n",
       "    }\n",
       "\n",
       "    .dataframe tbody tr th {\n",
       "        vertical-align: top;\n",
       "    }\n",
       "\n",
       "    .dataframe thead th {\n",
       "        text-align: right;\n",
       "    }\n",
       "</style>\n",
       "<table border=\"1\" class=\"dataframe\">\n",
       "  <thead>\n",
       "    <tr style=\"text-align: right;\">\n",
       "      <th></th>\n",
       "      <th>Target</th>\n",
       "    </tr>\n",
       "    <tr>\n",
       "      <th>Emp_ID</th>\n",
       "      <th></th>\n",
       "    </tr>\n",
       "  </thead>\n",
       "  <tbody>\n",
       "    <tr>\n",
       "      <th>394</th>\n",
       "      <td>0</td>\n",
       "    </tr>\n",
       "    <tr>\n",
       "      <th>173</th>\n",
       "      <td>0</td>\n",
       "    </tr>\n",
       "    <tr>\n",
       "      <th>1090</th>\n",
       "      <td>0</td>\n",
       "    </tr>\n",
       "    <tr>\n",
       "      <th>840</th>\n",
       "      <td>1</td>\n",
       "    </tr>\n",
       "    <tr>\n",
       "      <th>308</th>\n",
       "      <td>0</td>\n",
       "    </tr>\n",
       "    <tr>\n",
       "      <th>...</th>\n",
       "      <td>...</td>\n",
       "    </tr>\n",
       "    <tr>\n",
       "      <th>2134</th>\n",
       "      <td>0</td>\n",
       "    </tr>\n",
       "    <tr>\n",
       "      <th>2255</th>\n",
       "      <td>0</td>\n",
       "    </tr>\n",
       "    <tr>\n",
       "      <th>448</th>\n",
       "      <td>0</td>\n",
       "    </tr>\n",
       "    <tr>\n",
       "      <th>1644</th>\n",
       "      <td>0</td>\n",
       "    </tr>\n",
       "    <tr>\n",
       "      <th>624</th>\n",
       "      <td>0</td>\n",
       "    </tr>\n",
       "  </tbody>\n",
       "</table>\n",
       "<p>741 rows × 1 columns</p>\n",
       "</div>"
      ],
      "text/plain": [
       "        Target\n",
       "Emp_ID        \n",
       "394          0\n",
       "173          0\n",
       "1090         0\n",
       "840          1\n",
       "308          0\n",
       "...        ...\n",
       "2134         0\n",
       "2255         0\n",
       "448          0\n",
       "1644         0\n",
       "624          0\n",
       "\n",
       "[741 rows x 1 columns]"
      ]
     },
     "execution_count": 41,
     "metadata": {},
     "output_type": "execute_result"
    }
   ],
   "source": [
    "test.set_index('Emp_ID')"
   ]
  },
  {
   "cell_type": "code",
   "execution_count": 43,
   "id": "3a1e54e5",
   "metadata": {},
   "outputs": [],
   "source": [
    "#test.to_csv('Submission2.csv')"
   ]
  },
  {
   "cell_type": "code",
   "execution_count": null,
   "id": "b76927a1",
   "metadata": {},
   "outputs": [],
   "source": []
  }
 ],
 "metadata": {
  "kernelspec": {
   "display_name": "Python 3 (ipykernel)",
   "language": "python",
   "name": "python3"
  },
  "language_info": {
   "codemirror_mode": {
    "name": "ipython",
    "version": 3
   },
   "file_extension": ".py",
   "mimetype": "text/x-python",
   "name": "python",
   "nbconvert_exporter": "python",
   "pygments_lexer": "ipython3",
   "version": "3.8.5"
  }
 },
 "nbformat": 4,
 "nbformat_minor": 5
}
